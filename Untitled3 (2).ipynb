{
 "cells": [
  {
   "cell_type": "markdown",
   "id": "5cc41f37-d9f2-4684-89e1-4005612023c0",
   "metadata": {},
   "source": [
    "**A. ANALYSE DESCRIPTIVE**"
   ]
  },
  {
   "cell_type": "markdown",
   "id": "c9dee791-4282-4942-89cd-802084022ec2",
   "metadata": {},
   "source": [
    "*1. Traitement des tables de fait(Fact table) et de dimension (dimension tables)*"
   ]
  },
  {
   "cell_type": "markdown",
   "id": "4b716d98-d1d5-49f7-ab9e-585a63ac77f7",
   "metadata": {},
   "source": [
    "ANALYSE DE LA TABLE CLIENT"
   ]
  },
  {
   "cell_type": "code",
   "execution_count": 18,
   "id": "94567da7-a429-4bb0-a556-38812b8396ad",
   "metadata": {},
   "outputs": [],
   "source": [
    "#Analyse de la table client\n",
    "#Importation des bibliothéques\n",
    "import pandas as pd\n",
    "import matplotlib.pyplot as plt\n",
    "import plotly.express as px\n",
    "import numpy as np\n",
    "import seaborn as sns\n",
    "import statsmodels.api as sm\n",
    "#Importation de la table clients\n",
    "Client=pd.read_csv('Clients.csv')"
   ]
  },
  {
   "cell_type": "code",
   "execution_count": 3,
   "id": "a4f89f46-5318-4194-8faa-0ed4df5d85cf",
   "metadata": {},
   "outputs": [
    {
     "name": "stdout",
     "output_type": "stream",
     "text": [
      "<class 'pandas.core.frame.DataFrame'>\n",
      "RangeIndex: 101 entries, 0 to 100\n",
      "Data columns (total 5 columns):\n",
      " #   Column       Non-Null Count  Dtype \n",
      "---  ------       --------------  ----- \n",
      " 0   Code client  101 non-null    object\n",
      " 1   Prénom       101 non-null    object\n",
      " 2   Nom          101 non-null    object\n",
      " 3   Ville        101 non-null    object\n",
      " 4   Région       101 non-null    object\n",
      "dtypes: object(5)\n",
      "memory usage: 4.1+ KB\n"
     ]
    }
   ],
   "source": [
    "#Information\n",
    "Client.info()"
   ]
  },
  {
   "cell_type": "code",
   "execution_count": 6,
   "id": "f15aca74-88e8-46a6-a1fe-bb82a09a8097",
   "metadata": {},
   "outputs": [
    {
     "data": {
      "text/html": [
       "<div>\n",
       "<style scoped>\n",
       "    .dataframe tbody tr th:only-of-type {\n",
       "        vertical-align: middle;\n",
       "    }\n",
       "\n",
       "    .dataframe tbody tr th {\n",
       "        vertical-align: top;\n",
       "    }\n",
       "\n",
       "    .dataframe thead th {\n",
       "        text-align: right;\n",
       "    }\n",
       "</style>\n",
       "<table border=\"1\" class=\"dataframe\">\n",
       "  <thead>\n",
       "    <tr style=\"text-align: right;\">\n",
       "      <th></th>\n",
       "      <th>Code client</th>\n",
       "      <th>Prénom</th>\n",
       "      <th>Nom</th>\n",
       "      <th>Ville</th>\n",
       "      <th>Région</th>\n",
       "    </tr>\n",
       "  </thead>\n",
       "  <tbody>\n",
       "    <tr>\n",
       "      <th>0</th>\n",
       "      <td>C0001</td>\n",
       "      <td>Mamadou</td>\n",
       "      <td>Diallo</td>\n",
       "      <td>Conakry</td>\n",
       "      <td>Basse-Guinée</td>\n",
       "    </tr>\n",
       "    <tr>\n",
       "      <th>1</th>\n",
       "      <td>C0002</td>\n",
       "      <td>Mariame</td>\n",
       "      <td>Bah</td>\n",
       "      <td>Conakry</td>\n",
       "      <td>Basse-Guinée</td>\n",
       "    </tr>\n",
       "    <tr>\n",
       "      <th>2</th>\n",
       "      <td>C0002</td>\n",
       "      <td>Mariame</td>\n",
       "      <td>Bah</td>\n",
       "      <td>Conakry</td>\n",
       "      <td>Basse-Guinée</td>\n",
       "    </tr>\n",
       "    <tr>\n",
       "      <th>3</th>\n",
       "      <td>C0003</td>\n",
       "      <td>Sékou</td>\n",
       "      <td>Camara</td>\n",
       "      <td>Kindia</td>\n",
       "      <td>Basse-Guinée</td>\n",
       "    </tr>\n",
       "    <tr>\n",
       "      <th>4</th>\n",
       "      <td>C0004</td>\n",
       "      <td>Aïssatou</td>\n",
       "      <td>Sow</td>\n",
       "      <td>Conakry</td>\n",
       "      <td>Basse-Guinée</td>\n",
       "    </tr>\n",
       "  </tbody>\n",
       "</table>\n",
       "</div>"
      ],
      "text/plain": [
       "  Code client    Prénom     Nom    Ville        Région\n",
       "0       C0001   Mamadou  Diallo  Conakry  Basse-Guinée\n",
       "1       C0002   Mariame     Bah  Conakry  Basse-Guinée\n",
       "2       C0002   Mariame     Bah  Conakry  Basse-Guinée\n",
       "3       C0003     Sékou  Camara   Kindia  Basse-Guinée\n",
       "4       C0004  Aïssatou     Sow  Conakry  Basse-Guinée"
      ]
     },
     "execution_count": 6,
     "metadata": {},
     "output_type": "execute_result"
    }
   ],
   "source": [
    "#Visualusation des premieres lignes par defaut\n",
    "Client.head()"
   ]
  },
  {
   "cell_type": "code",
   "execution_count": 7,
   "id": "5d0b1558-00c5-4c23-9842-cd24bbeb6a13",
   "metadata": {},
   "outputs": [],
   "source": [
    "#Formatage des colonnes\n",
    "Client[\"Nom\"] = Client[\"Nom\"].astype(str)\n",
    "Client[\"Prénom\"] = Client[\"Prénom\"].astype(str)\n",
    "Client[\"Ville\"] = Client[\"Ville\"].astype(str)\n",
    "Client[\"Région\"] = Client[\"Région\"].astype(str)"
   ]
  },
  {
   "cell_type": "code",
   "execution_count": 8,
   "id": "ad014f4e-e635-4a58-ba61-17fc028137aa",
   "metadata": {},
   "outputs": [
    {
     "data": {
      "text/plain": [
       "1"
      ]
     },
     "execution_count": 8,
     "metadata": {},
     "output_type": "execute_result"
    }
   ],
   "source": [
    "#Traitement des doublons\n",
    "Client.duplicated().sum() #nombre de doublon"
   ]
  },
  {
   "cell_type": "code",
   "execution_count": 9,
   "id": "b7a21182-12bd-4b3e-ac65-2dec56eb6562",
   "metadata": {},
   "outputs": [
    {
     "data": {
      "text/html": [
       "<div>\n",
       "<style scoped>\n",
       "    .dataframe tbody tr th:only-of-type {\n",
       "        vertical-align: middle;\n",
       "    }\n",
       "\n",
       "    .dataframe tbody tr th {\n",
       "        vertical-align: top;\n",
       "    }\n",
       "\n",
       "    .dataframe thead th {\n",
       "        text-align: right;\n",
       "    }\n",
       "</style>\n",
       "<table border=\"1\" class=\"dataframe\">\n",
       "  <thead>\n",
       "    <tr style=\"text-align: right;\">\n",
       "      <th></th>\n",
       "      <th>Code client</th>\n",
       "      <th>Prénom</th>\n",
       "      <th>Nom</th>\n",
       "      <th>Ville</th>\n",
       "      <th>Région</th>\n",
       "    </tr>\n",
       "  </thead>\n",
       "  <tbody>\n",
       "    <tr>\n",
       "      <th>2</th>\n",
       "      <td>C0002</td>\n",
       "      <td>Mariame</td>\n",
       "      <td>Bah</td>\n",
       "      <td>Conakry</td>\n",
       "      <td>Basse-Guinée</td>\n",
       "    </tr>\n",
       "  </tbody>\n",
       "</table>\n",
       "</div>"
      ],
      "text/plain": [
       "  Code client   Prénom  Nom    Ville        Région\n",
       "2       C0002  Mariame  Bah  Conakry  Basse-Guinée"
      ]
     },
     "execution_count": 9,
     "metadata": {},
     "output_type": "execute_result"
    }
   ],
   "source": [
    "Client[Client.duplicated()] #Affiche la ligne dupliquée"
   ]
  },
  {
   "cell_type": "code",
   "execution_count": 10,
   "id": "0f6faf6e-761b-441d-8e8d-ad03b7a1df03",
   "metadata": {},
   "outputs": [
    {
     "data": {
      "text/plain": [
       "0"
      ]
     },
     "execution_count": 10,
     "metadata": {},
     "output_type": "execute_result"
    }
   ],
   "source": [
    "Client.drop_duplicates(inplace=True) #Supprime le doublon\n",
    "Client.duplicated().sum()"
   ]
  },
  {
   "cell_type": "code",
   "execution_count": 12,
   "id": "0b1c1ee6-b6fa-4cd0-9b6d-9cce471c0f52",
   "metadata": {},
   "outputs": [
    {
     "data": {
      "text/plain": [
       "Code client    0\n",
       "Prénom         0\n",
       "Nom            0\n",
       "Ville          0\n",
       "Région         0\n",
       "dtype: int64"
      ]
     },
     "execution_count": 12,
     "metadata": {},
     "output_type": "execute_result"
    }
   ],
   "source": [
    "#Traitement des valeurs manquantes \n",
    "Client.isnull().sum() # nombre de valeurs manquantes "
   ]
  },
  {
   "cell_type": "code",
   "execution_count": 24,
   "id": "13150b7a-90cf-4dc7-a138-463c402e91d4",
   "metadata": {},
   "outputs": [
    {
     "data": {
      "text/html": [
       "<div>\n",
       "<style scoped>\n",
       "    .dataframe tbody tr th:only-of-type {\n",
       "        vertical-align: middle;\n",
       "    }\n",
       "\n",
       "    .dataframe tbody tr th {\n",
       "        vertical-align: top;\n",
       "    }\n",
       "\n",
       "    .dataframe thead th {\n",
       "        text-align: right;\n",
       "    }\n",
       "</style>\n",
       "<table border=\"1\" class=\"dataframe\">\n",
       "  <thead>\n",
       "    <tr style=\"text-align: right;\">\n",
       "      <th></th>\n",
       "      <th>Code client</th>\n",
       "      <th>Prénom</th>\n",
       "      <th>Nom</th>\n",
       "      <th>Ville</th>\n",
       "      <th>Région</th>\n",
       "      <th>Nom et Prénom</th>\n",
       "      <th>Adresse client</th>\n",
       "    </tr>\n",
       "  </thead>\n",
       "  <tbody>\n",
       "    <tr>\n",
       "      <th>0</th>\n",
       "      <td>C0001</td>\n",
       "      <td>Mamadou</td>\n",
       "      <td>Diallo</td>\n",
       "      <td>Conakry</td>\n",
       "      <td>Basse-Guinée</td>\n",
       "      <td>DIALLO Mamadou</td>\n",
       "      <td>Conakry, Basse-Guinée</td>\n",
       "    </tr>\n",
       "    <tr>\n",
       "      <th>1</th>\n",
       "      <td>C0002</td>\n",
       "      <td>Mariame</td>\n",
       "      <td>Bah</td>\n",
       "      <td>Conakry</td>\n",
       "      <td>Basse-Guinée</td>\n",
       "      <td>BAH Mariame</td>\n",
       "      <td>Conakry, Basse-Guinée</td>\n",
       "    </tr>\n",
       "    <tr>\n",
       "      <th>2</th>\n",
       "      <td>C0002</td>\n",
       "      <td>Mariame</td>\n",
       "      <td>Bah</td>\n",
       "      <td>Conakry</td>\n",
       "      <td>Basse-Guinée</td>\n",
       "      <td>BAH Mariame</td>\n",
       "      <td>Conakry, Basse-Guinée</td>\n",
       "    </tr>\n",
       "    <tr>\n",
       "      <th>3</th>\n",
       "      <td>C0003</td>\n",
       "      <td>Sékou</td>\n",
       "      <td>Camara</td>\n",
       "      <td>Kindia</td>\n",
       "      <td>Basse-Guinée</td>\n",
       "      <td>CAMARA Sékou</td>\n",
       "      <td>Kindia, Basse-Guinée</td>\n",
       "    </tr>\n",
       "    <tr>\n",
       "      <th>4</th>\n",
       "      <td>C0004</td>\n",
       "      <td>Aïssatou</td>\n",
       "      <td>Sow</td>\n",
       "      <td>Conakry</td>\n",
       "      <td>Basse-Guinée</td>\n",
       "      <td>SOW Aïssatou</td>\n",
       "      <td>Conakry, Basse-Guinée</td>\n",
       "    </tr>\n",
       "  </tbody>\n",
       "</table>\n",
       "</div>"
      ],
      "text/plain": [
       "  Code client    Prénom     Nom    Ville        Région   Nom et Prénom  \\\n",
       "0       C0001   Mamadou  Diallo  Conakry  Basse-Guinée  DIALLO Mamadou   \n",
       "1       C0002   Mariame     Bah  Conakry  Basse-Guinée     BAH Mariame   \n",
       "2       C0002   Mariame     Bah  Conakry  Basse-Guinée     BAH Mariame   \n",
       "3       C0003     Sékou  Camara   Kindia  Basse-Guinée    CAMARA Sékou   \n",
       "4       C0004  Aïssatou     Sow  Conakry  Basse-Guinée    SOW Aïssatou   \n",
       "\n",
       "          Adresse client  \n",
       "0  Conakry, Basse-Guinée  \n",
       "1  Conakry, Basse-Guinée  \n",
       "2  Conakry, Basse-Guinée  \n",
       "3   Kindia, Basse-Guinée  \n",
       "4  Conakry, Basse-Guinée  "
      ]
     },
     "execution_count": 24,
     "metadata": {},
     "output_type": "execute_result"
    }
   ],
   "source": [
    "#Préparation de la table client\n",
    "Client[f\"Nom et Prénom\"]=Client[f\"Nom\"].str.upper()+\" \"+Client[f\"Prénom\"]\n",
    "Client[f\"Adresse client\"]=Client[f\"Ville\"]+\",\"+\" \"+Client[f\"Région\"]\n",
    "Client.head() #premiere ligne par defaut"
   ]
  },
  {
   "cell_type": "markdown",
   "id": "bdf2fb2b-e677-468b-b8a9-cd88aade5606",
   "metadata": {},
   "source": [
    "ANALYSE DE LA TABLE PRODUIT"
   ]
  },
  {
   "cell_type": "code",
   "execution_count": 26,
   "id": "03abf572-c0c6-47c0-99a7-f975fb26bcc0",
   "metadata": {},
   "outputs": [
    {
     "name": "stdout",
     "output_type": "stream",
     "text": [
      "<class 'pandas.core.frame.DataFrame'>\n",
      "RangeIndex: 11 entries, 0 to 10\n",
      "Data columns (total 6 columns):\n",
      " #   Column         Non-Null Count  Dtype \n",
      "---  ------         --------------  ----- \n",
      " 0   Code Produit   11 non-null     object\n",
      " 1   Prix Unitaire  11 non-null     int64 \n",
      " 2   Cout Unitaire  11 non-null     int64 \n",
      " 3   Qualité        11 non-null     object\n",
      " 4   Cathegorie     9 non-null      object\n",
      " 5   Description    11 non-null     object\n",
      "dtypes: int64(2), object(4)\n",
      "memory usage: 656.0+ bytes\n"
     ]
    }
   ],
   "source": [
    "#Importation de la table \n",
    "Produit=pd.read_excel('produits.xlsx')\n",
    "#Information\n",
    "Produit.info()"
   ]
  },
  {
   "cell_type": "code",
   "execution_count": 28,
   "id": "7f3fce48-ae39-46e0-8c20-72fd72d99634",
   "metadata": {},
   "outputs": [
    {
     "data": {
      "text/html": [
       "<div>\n",
       "<style scoped>\n",
       "    .dataframe tbody tr th:only-of-type {\n",
       "        vertical-align: middle;\n",
       "    }\n",
       "\n",
       "    .dataframe tbody tr th {\n",
       "        vertical-align: top;\n",
       "    }\n",
       "\n",
       "    .dataframe thead th {\n",
       "        text-align: right;\n",
       "    }\n",
       "</style>\n",
       "<table border=\"1\" class=\"dataframe\">\n",
       "  <thead>\n",
       "    <tr style=\"text-align: right;\">\n",
       "      <th></th>\n",
       "      <th>Code Produit</th>\n",
       "      <th>Prix Unitaire</th>\n",
       "      <th>Cout Unitaire</th>\n",
       "      <th>Qualité</th>\n",
       "      <th>Cathegorie</th>\n",
       "      <th>Description</th>\n",
       "    </tr>\n",
       "  </thead>\n",
       "  <tbody>\n",
       "    <tr>\n",
       "      <th>0</th>\n",
       "      <td>P001</td>\n",
       "      <td>25000</td>\n",
       "      <td>15000</td>\n",
       "      <td>Bonne</td>\n",
       "      <td>Vetement</td>\n",
       "      <td>Boubou en bazin riche taille unique</td>\n",
       "    </tr>\n",
       "    <tr>\n",
       "      <th>1</th>\n",
       "      <td>P002</td>\n",
       "      <td>450000</td>\n",
       "      <td>300000</td>\n",
       "      <td>Très bonne</td>\n",
       "      <td>Appareil</td>\n",
       "      <td>Téléphone Tecno Spark 10 128GB</td>\n",
       "    </tr>\n",
       "    <tr>\n",
       "      <th>2</th>\n",
       "      <td>P003</td>\n",
       "      <td>5000</td>\n",
       "      <td>2500</td>\n",
       "      <td>Moyenne</td>\n",
       "      <td>Nourriture</td>\n",
       "      <td>Sachet de café Touba 250g</td>\n",
       "    </tr>\n",
       "  </tbody>\n",
       "</table>\n",
       "</div>"
      ],
      "text/plain": [
       "  Code Produit  Prix Unitaire  Cout Unitaire     Qualité  Cathegorie  \\\n",
       "0         P001          25000          15000       Bonne    Vetement   \n",
       "1         P002         450000         300000  Très bonne    Appareil   \n",
       "2         P003           5000           2500     Moyenne  Nourriture   \n",
       "\n",
       "                           Description  \n",
       "0  Boubou en bazin riche taille unique  \n",
       "1       Téléphone Tecno Spark 10 128GB  \n",
       "2            Sachet de café Touba 250g  "
      ]
     },
     "execution_count": 28,
     "metadata": {},
     "output_type": "execute_result"
    }
   ],
   "source": [
    "#visualisation des 3 premieres lignes\n",
    "Produit.head(3)"
   ]
  },
  {
   "cell_type": "code",
   "execution_count": 29,
   "id": "5c194971-0ebc-4dba-9dea-8a6590a431cc",
   "metadata": {},
   "outputs": [
    {
     "data": {
      "text/plain": [
       "0"
      ]
     },
     "execution_count": 29,
     "metadata": {},
     "output_type": "execute_result"
    }
   ],
   "source": [
    "#Traitement de doublon\n",
    "Produit.duplicated().sum() # Nombre de doublon "
   ]
  },
  {
   "cell_type": "code",
   "execution_count": 30,
   "id": "ba899020-42fd-49bc-88f1-dc5921cecb55",
   "metadata": {},
   "outputs": [
    {
     "data": {
      "text/plain": [
       "Code Produit     0\n",
       "Prix Unitaire    0\n",
       "Cout Unitaire    0\n",
       "Qualité          0\n",
       "Cathegorie       2\n",
       "Description      0\n",
       "dtype: int64"
      ]
     },
     "execution_count": 30,
     "metadata": {},
     "output_type": "execute_result"
    }
   ],
   "source": [
    "#Traitement des valeurs manquantes \n",
    "Produit.isnull().sum() #nombre de valeurs manquantes "
   ]
  },
  {
   "cell_type": "code",
   "execution_count": 31,
   "id": "d9d496c7-c5cf-4d68-8e68-c0e115a52710",
   "metadata": {},
   "outputs": [
    {
     "data": {
      "text/html": [
       "<div>\n",
       "<style scoped>\n",
       "    .dataframe tbody tr th:only-of-type {\n",
       "        vertical-align: middle;\n",
       "    }\n",
       "\n",
       "    .dataframe tbody tr th {\n",
       "        vertical-align: top;\n",
       "    }\n",
       "\n",
       "    .dataframe thead th {\n",
       "        text-align: right;\n",
       "    }\n",
       "</style>\n",
       "<table border=\"1\" class=\"dataframe\">\n",
       "  <thead>\n",
       "    <tr style=\"text-align: right;\">\n",
       "      <th></th>\n",
       "      <th>Code Produit</th>\n",
       "      <th>Prix Unitaire</th>\n",
       "      <th>Cout Unitaire</th>\n",
       "      <th>Qualité</th>\n",
       "      <th>Cathegorie</th>\n",
       "      <th>Description</th>\n",
       "    </tr>\n",
       "  </thead>\n",
       "  <tbody>\n",
       "    <tr>\n",
       "      <th>4</th>\n",
       "      <td>P005</td>\n",
       "      <td>15000</td>\n",
       "      <td>8000</td>\n",
       "      <td>Bonne</td>\n",
       "      <td>NaN</td>\n",
       "      <td>Sac de riz local 5kg</td>\n",
       "    </tr>\n",
       "    <tr>\n",
       "      <th>9</th>\n",
       "      <td>P010</td>\n",
       "      <td>95000</td>\n",
       "      <td>60000</td>\n",
       "      <td>Excellente</td>\n",
       "      <td>NaN</td>\n",
       "      <td>Machine à coudre manuelle</td>\n",
       "    </tr>\n",
       "  </tbody>\n",
       "</table>\n",
       "</div>"
      ],
      "text/plain": [
       "  Code Produit  Prix Unitaire  Cout Unitaire     Qualité Cathegorie  \\\n",
       "4         P005          15000           8000       Bonne        NaN   \n",
       "9         P010          95000          60000  Excellente        NaN   \n",
       "\n",
       "                 Description  \n",
       "4       Sac de riz local 5kg  \n",
       "9  Machine à coudre manuelle  "
      ]
     },
     "execution_count": 31,
     "metadata": {},
     "output_type": "execute_result"
    }
   ],
   "source": [
    "Produit[Produit.isnull().any(axis=1)] # Lignes avec valeurs manquantes"
   ]
  },
  {
   "cell_type": "code",
   "execution_count": 32,
   "id": "a112447b-e5e4-493e-9275-5b968d4c07c6",
   "metadata": {},
   "outputs": [
    {
     "data": {
      "text/plain": [
       "Code Produit     0\n",
       "Prix Unitaire    0\n",
       "Cout Unitaire    0\n",
       "Qualité          0\n",
       "Cathegorie       0\n",
       "Description      0\n",
       "dtype: int64"
      ]
     },
     "execution_count": 32,
     "metadata": {},
     "output_type": "execute_result"
    }
   ],
   "source": [
    "#Remplacer les valeurs manquantes:\n",
    "Produit.loc[4,\"Cathegorie\"]=\"Nourriture\"\n",
    "Produit.loc[9,\"Cathegorie\"]=\"Appareil\"\n",
    "Produit.isnull().sum()"
   ]
  },
  {
   "cell_type": "markdown",
   "id": "e42ec555-95cf-4d70-919f-1e3305594981",
   "metadata": {},
   "source": [
    "ANALYSE DE LA TABLE MAGASIN"
   ]
  },
  {
   "cell_type": "code",
   "execution_count": 33,
   "id": "55a792e6-27da-45aa-b09d-29a601d09416",
   "metadata": {},
   "outputs": [],
   "source": [
    "#Importation des données\n",
    "Magasin=pd.read_csv(\"magasins.csv\")"
   ]
  },
  {
   "cell_type": "code",
   "execution_count": 34,
   "id": "59eebadd-5a1d-45d7-8396-4dabd4cfc95c",
   "metadata": {},
   "outputs": [
    {
     "name": "stdout",
     "output_type": "stream",
     "text": [
      "<class 'pandas.core.frame.DataFrame'>\n",
      "RangeIndex: 5 entries, 0 to 4\n",
      "Data columns (total 3 columns):\n",
      " #   Column        Non-Null Count  Dtype \n",
      "---  ------        --------------  ----- \n",
      " 0   Code magasin  5 non-null      object\n",
      " 1   Ville         5 non-null      object\n",
      " 2   Région        5 non-null      object\n",
      "dtypes: object(3)\n",
      "memory usage: 248.0+ bytes\n"
     ]
    }
   ],
   "source": [
    "#information\n",
    "Magasin.info()"
   ]
  },
  {
   "cell_type": "code",
   "execution_count": 35,
   "id": "216c329c-ade9-45c9-8a76-b40f97f03480",
   "metadata": {},
   "outputs": [
    {
     "data": {
      "text/html": [
       "<div>\n",
       "<style scoped>\n",
       "    .dataframe tbody tr th:only-of-type {\n",
       "        vertical-align: middle;\n",
       "    }\n",
       "\n",
       "    .dataframe tbody tr th {\n",
       "        vertical-align: top;\n",
       "    }\n",
       "\n",
       "    .dataframe thead th {\n",
       "        text-align: right;\n",
       "    }\n",
       "</style>\n",
       "<table border=\"1\" class=\"dataframe\">\n",
       "  <thead>\n",
       "    <tr style=\"text-align: right;\">\n",
       "      <th></th>\n",
       "      <th>Code magasin</th>\n",
       "      <th>Ville</th>\n",
       "      <th>Région</th>\n",
       "    </tr>\n",
       "  </thead>\n",
       "  <tbody>\n",
       "    <tr>\n",
       "      <th>0</th>\n",
       "      <td>M001</td>\n",
       "      <td>Conakry</td>\n",
       "      <td>Basse-Guinée</td>\n",
       "    </tr>\n",
       "    <tr>\n",
       "      <th>1</th>\n",
       "      <td>M002</td>\n",
       "      <td>Kindia</td>\n",
       "      <td>Basse-Guinée</td>\n",
       "    </tr>\n",
       "    <tr>\n",
       "      <th>2</th>\n",
       "      <td>M003</td>\n",
       "      <td>Mamou</td>\n",
       "      <td>Moyenne-Guinée</td>\n",
       "    </tr>\n",
       "    <tr>\n",
       "      <th>3</th>\n",
       "      <td>M004</td>\n",
       "      <td>Kankan</td>\n",
       "      <td>Haute-Guinée</td>\n",
       "    </tr>\n",
       "    <tr>\n",
       "      <th>4</th>\n",
       "      <td>M005</td>\n",
       "      <td>Nzérékoré</td>\n",
       "      <td>Guinée Forestière</td>\n",
       "    </tr>\n",
       "  </tbody>\n",
       "</table>\n",
       "</div>"
      ],
      "text/plain": [
       "  Code magasin      Ville             Région\n",
       "0         M001    Conakry       Basse-Guinée\n",
       "1         M002     Kindia       Basse-Guinée\n",
       "2         M003      Mamou     Moyenne-Guinée\n",
       "3         M004     Kankan       Haute-Guinée\n",
       "4         M005  Nzérékoré  Guinée Forestière"
      ]
     },
     "execution_count": 35,
     "metadata": {},
     "output_type": "execute_result"
    }
   ],
   "source": [
    "#Visualisation\n",
    "Magasin.head(5) #5 dernieres lignes "
   ]
  },
  {
   "cell_type": "markdown",
   "id": "c59d3bae-4312-4778-8818-a5eb00208780",
   "metadata": {},
   "source": [
    "ANALYSE DE LA TABLE DE TRANSACTION OU VENTE"
   ]
  },
  {
   "cell_type": "code",
   "execution_count": 36,
   "id": "5f06a5e6-c7c0-4787-8cd3-923e433f19eb",
   "metadata": {},
   "outputs": [
    {
     "name": "stdout",
     "output_type": "stream",
     "text": [
      "<class 'pandas.core.frame.DataFrame'>\n",
      "RangeIndex: 1345 entries, 0 to 1344\n",
      "Data columns (total 5 columns):\n",
      " #   Column        Non-Null Count  Dtype \n",
      "---  ------        --------------  ----- \n",
      " 0   Date          1345 non-null   object\n",
      " 1   Code Produit  1345 non-null   object\n",
      " 2   Quantité      1345 non-null   int64 \n",
      " 3   Code magasin  1345 non-null   object\n",
      " 4   Code client   1345 non-null   object\n",
      "dtypes: int64(1), object(4)\n",
      "memory usage: 52.7+ KB\n"
     ]
    }
   ],
   "source": [
    "#Importation de la table de transaction\n",
    "Transaction=pd.read_csv(\"transactions.csv\")\n",
    "#Information\n",
    "Transaction.info()"
   ]
  },
  {
   "cell_type": "code",
   "execution_count": 39,
   "id": "598708ef-a155-45ee-82c6-46af378193dc",
   "metadata": {},
   "outputs": [
    {
     "data": {
      "text/html": [
       "<div>\n",
       "<style scoped>\n",
       "    .dataframe tbody tr th:only-of-type {\n",
       "        vertical-align: middle;\n",
       "    }\n",
       "\n",
       "    .dataframe tbody tr th {\n",
       "        vertical-align: top;\n",
       "    }\n",
       "\n",
       "    .dataframe thead th {\n",
       "        text-align: right;\n",
       "    }\n",
       "</style>\n",
       "<table border=\"1\" class=\"dataframe\">\n",
       "  <thead>\n",
       "    <tr style=\"text-align: right;\">\n",
       "      <th></th>\n",
       "      <th>Date</th>\n",
       "      <th>Code Produit</th>\n",
       "      <th>Quantité</th>\n",
       "      <th>Code magasin</th>\n",
       "      <th>Code client</th>\n",
       "    </tr>\n",
       "  </thead>\n",
       "  <tbody>\n",
       "    <tr>\n",
       "      <th>0</th>\n",
       "      <td>2024-07-18</td>\n",
       "      <td>P003</td>\n",
       "      <td>1</td>\n",
       "      <td>M001</td>\n",
       "      <td>C0014</td>\n",
       "    </tr>\n",
       "    <tr>\n",
       "      <th>1</th>\n",
       "      <td>2024-04-09</td>\n",
       "      <td>P002</td>\n",
       "      <td>6</td>\n",
       "      <td>M004</td>\n",
       "      <td>C0072</td>\n",
       "    </tr>\n",
       "    <tr>\n",
       "      <th>2</th>\n",
       "      <td>2024-02-04</td>\n",
       "      <td>P008</td>\n",
       "      <td>1</td>\n",
       "      <td>M005</td>\n",
       "      <td>C0002</td>\n",
       "    </tr>\n",
       "    <tr>\n",
       "      <th>3</th>\n",
       "      <td>2024-03-04</td>\n",
       "      <td>P010</td>\n",
       "      <td>5</td>\n",
       "      <td>M005</td>\n",
       "      <td>C0067</td>\n",
       "    </tr>\n",
       "    <tr>\n",
       "      <th>4</th>\n",
       "      <td>2024-09-22</td>\n",
       "      <td>P011</td>\n",
       "      <td>4</td>\n",
       "      <td>M001</td>\n",
       "      <td>C0028</td>\n",
       "    </tr>\n",
       "    <tr>\n",
       "      <th>...</th>\n",
       "      <td>...</td>\n",
       "      <td>...</td>\n",
       "      <td>...</td>\n",
       "      <td>...</td>\n",
       "      <td>...</td>\n",
       "    </tr>\n",
       "    <tr>\n",
       "      <th>1340</th>\n",
       "      <td>2024-01-28</td>\n",
       "      <td>P005</td>\n",
       "      <td>9</td>\n",
       "      <td>M003</td>\n",
       "      <td>C0091</td>\n",
       "    </tr>\n",
       "    <tr>\n",
       "      <th>1341</th>\n",
       "      <td>2024-02-08</td>\n",
       "      <td>P002</td>\n",
       "      <td>8</td>\n",
       "      <td>M004</td>\n",
       "      <td>C0051</td>\n",
       "    </tr>\n",
       "    <tr>\n",
       "      <th>1342</th>\n",
       "      <td>2024-11-10</td>\n",
       "      <td>P004</td>\n",
       "      <td>3</td>\n",
       "      <td>M003</td>\n",
       "      <td>C0058</td>\n",
       "    </tr>\n",
       "    <tr>\n",
       "      <th>1343</th>\n",
       "      <td>2024-05-05</td>\n",
       "      <td>P009</td>\n",
       "      <td>4</td>\n",
       "      <td>M003</td>\n",
       "      <td>C0022</td>\n",
       "    </tr>\n",
       "    <tr>\n",
       "      <th>1344</th>\n",
       "      <td>2024-01-07</td>\n",
       "      <td>P010</td>\n",
       "      <td>2</td>\n",
       "      <td>M001</td>\n",
       "      <td>C0066</td>\n",
       "    </tr>\n",
       "  </tbody>\n",
       "</table>\n",
       "<p>1345 rows × 5 columns</p>\n",
       "</div>"
      ],
      "text/plain": [
       "           Date Code Produit  Quantité Code magasin Code client\n",
       "0    2024-07-18         P003         1         M001       C0014\n",
       "1    2024-04-09         P002         6         M004       C0072\n",
       "2    2024-02-04         P008         1         M005       C0002\n",
       "3    2024-03-04         P010         5         M005       C0067\n",
       "4    2024-09-22         P011         4         M001       C0028\n",
       "...         ...          ...       ...          ...         ...\n",
       "1340 2024-01-28         P005         9         M003       C0091\n",
       "1341 2024-02-08         P002         8         M004       C0051\n",
       "1342 2024-11-10         P004         3         M003       C0058\n",
       "1343 2024-05-05         P009         4         M003       C0022\n",
       "1344 2024-01-07         P010         2         M001       C0066\n",
       "\n",
       "[1345 rows x 5 columns]"
      ]
     },
     "execution_count": 39,
     "metadata": {},
     "output_type": "execute_result"
    }
   ],
   "source": [
    "#formatage des colonnes \n",
    "Transaction[\"Date\"] = pd.to_datetime(Transaction[\"Date\"])\n",
    "Transaction"
   ]
  },
  {
   "cell_type": "markdown",
   "id": "8e4f86a5-8da6-4b4f-b938-1cf26cf4545d",
   "metadata": {},
   "source": [
    "*2. Conception et analyse*"
   ]
  },
  {
   "cell_type": "code",
   "execution_count": 40,
   "id": "2da8a0c1-e0f3-4d57-a72c-16150db577df",
   "metadata": {},
   "outputs": [
    {
     "data": {
      "text/html": [
       "<div>\n",
       "<style scoped>\n",
       "    .dataframe tbody tr th:only-of-type {\n",
       "        vertical-align: middle;\n",
       "    }\n",
       "\n",
       "    .dataframe tbody tr th {\n",
       "        vertical-align: top;\n",
       "    }\n",
       "\n",
       "    .dataframe thead th {\n",
       "        text-align: right;\n",
       "    }\n",
       "</style>\n",
       "<table border=\"1\" class=\"dataframe\">\n",
       "  <thead>\n",
       "    <tr style=\"text-align: right;\">\n",
       "      <th></th>\n",
       "      <th>0</th>\n",
       "      <th>1</th>\n",
       "    </tr>\n",
       "  </thead>\n",
       "  <tbody>\n",
       "    <tr>\n",
       "      <th>Date</th>\n",
       "      <td>2024-07-18 00:00:00</td>\n",
       "      <td>2024-04-09 00:00:00</td>\n",
       "    </tr>\n",
       "    <tr>\n",
       "      <th>Code Produit</th>\n",
       "      <td>P003</td>\n",
       "      <td>P003</td>\n",
       "    </tr>\n",
       "    <tr>\n",
       "      <th>Quantité</th>\n",
       "      <td>1</td>\n",
       "      <td>7</td>\n",
       "    </tr>\n",
       "    <tr>\n",
       "      <th>Code magasin</th>\n",
       "      <td>M001</td>\n",
       "      <td>M005</td>\n",
       "    </tr>\n",
       "    <tr>\n",
       "      <th>Code client</th>\n",
       "      <td>C0014</td>\n",
       "      <td>C0072</td>\n",
       "    </tr>\n",
       "    <tr>\n",
       "      <th>Prénom</th>\n",
       "      <td>Ramata</td>\n",
       "      <td>Aïssatou</td>\n",
       "    </tr>\n",
       "    <tr>\n",
       "      <th>Nom</th>\n",
       "      <td>Bangoura</td>\n",
       "      <td>Diallo</td>\n",
       "    </tr>\n",
       "    <tr>\n",
       "      <th>Ville</th>\n",
       "      <td>Kindia</td>\n",
       "      <td>Siguiri</td>\n",
       "    </tr>\n",
       "    <tr>\n",
       "      <th>Région</th>\n",
       "      <td>Basse-Guinée</td>\n",
       "      <td>Haute-Guinée</td>\n",
       "    </tr>\n",
       "    <tr>\n",
       "      <th>Nom et Prénom</th>\n",
       "      <td>BANGOURA Ramata</td>\n",
       "      <td>DIALLO Aïssatou</td>\n",
       "    </tr>\n",
       "    <tr>\n",
       "      <th>Adresse client</th>\n",
       "      <td>Kindia, Basse-Guinée</td>\n",
       "      <td>Siguiri, Haute-Guinée</td>\n",
       "    </tr>\n",
       "    <tr>\n",
       "      <th>Prix Unitaire</th>\n",
       "      <td>5000</td>\n",
       "      <td>5000</td>\n",
       "    </tr>\n",
       "    <tr>\n",
       "      <th>Cout Unitaire</th>\n",
       "      <td>2500</td>\n",
       "      <td>2500</td>\n",
       "    </tr>\n",
       "    <tr>\n",
       "      <th>Qualité</th>\n",
       "      <td>Moyenne</td>\n",
       "      <td>Moyenne</td>\n",
       "    </tr>\n",
       "    <tr>\n",
       "      <th>Cathegorie</th>\n",
       "      <td>Nourriture</td>\n",
       "      <td>Nourriture</td>\n",
       "    </tr>\n",
       "    <tr>\n",
       "      <th>Description</th>\n",
       "      <td>Sachet de café Touba 250g</td>\n",
       "      <td>Sachet de café Touba 250g</td>\n",
       "    </tr>\n",
       "  </tbody>\n",
       "</table>\n",
       "</div>"
      ],
      "text/plain": [
       "                                        0                          1\n",
       "Date                  2024-07-18 00:00:00        2024-04-09 00:00:00\n",
       "Code Produit                         P003                       P003\n",
       "Quantité                                1                          7\n",
       "Code magasin                         M001                       M005\n",
       "Code client                         C0014                      C0072\n",
       "Prénom                             Ramata                   Aïssatou\n",
       "Nom                              Bangoura                     Diallo\n",
       "Ville                              Kindia                    Siguiri\n",
       "Région                       Basse-Guinée               Haute-Guinée\n",
       "Nom et Prénom             BANGOURA Ramata            DIALLO Aïssatou\n",
       "Adresse client       Kindia, Basse-Guinée      Siguiri, Haute-Guinée\n",
       "Prix Unitaire                        5000                       5000\n",
       "Cout Unitaire                        2500                       2500\n",
       "Qualité                           Moyenne                    Moyenne\n",
       "Cathegorie                     Nourriture                 Nourriture\n",
       "Description     Sachet de café Touba 250g  Sachet de café Touba 250g"
      ]
     },
     "execution_count": 40,
     "metadata": {},
     "output_type": "execute_result"
    }
   ],
   "source": [
    "#Fusion des tables par structure étoile\n",
    "TableFusion=pd.merge(Transaction,Client,how=\"inner\")\n",
    "TableFusion=pd.merge(TableFusion,Produit,how=\"inner\")\n",
    "TableFusion.head(2).T"
   ]
  },
  {
   "cell_type": "code",
   "execution_count": 41,
   "id": "6c463284-a24c-4303-a3e2-370a472e1469",
   "metadata": {},
   "outputs": [
    {
     "data": {
      "text/html": [
       "<div>\n",
       "<style scoped>\n",
       "    .dataframe tbody tr th:only-of-type {\n",
       "        vertical-align: middle;\n",
       "    }\n",
       "\n",
       "    .dataframe tbody tr th {\n",
       "        vertical-align: top;\n",
       "    }\n",
       "\n",
       "    .dataframe thead th {\n",
       "        text-align: right;\n",
       "    }\n",
       "</style>\n",
       "<table border=\"1\" class=\"dataframe\">\n",
       "  <thead>\n",
       "    <tr style=\"text-align: right;\">\n",
       "      <th></th>\n",
       "      <th>0</th>\n",
       "      <th>1</th>\n",
       "    </tr>\n",
       "  </thead>\n",
       "  <tbody>\n",
       "    <tr>\n",
       "      <th>Date</th>\n",
       "      <td>2024-07-18 00:00:00</td>\n",
       "      <td>2024-04-09 00:00:00</td>\n",
       "    </tr>\n",
       "    <tr>\n",
       "      <th>Code Produit</th>\n",
       "      <td>P003</td>\n",
       "      <td>P003</td>\n",
       "    </tr>\n",
       "    <tr>\n",
       "      <th>Quantité</th>\n",
       "      <td>1</td>\n",
       "      <td>7</td>\n",
       "    </tr>\n",
       "    <tr>\n",
       "      <th>Code magasin</th>\n",
       "      <td>M001</td>\n",
       "      <td>M005</td>\n",
       "    </tr>\n",
       "    <tr>\n",
       "      <th>Code client</th>\n",
       "      <td>C0014</td>\n",
       "      <td>C0072</td>\n",
       "    </tr>\n",
       "    <tr>\n",
       "      <th>Prénom</th>\n",
       "      <td>Ramata</td>\n",
       "      <td>Aïssatou</td>\n",
       "    </tr>\n",
       "    <tr>\n",
       "      <th>Nom</th>\n",
       "      <td>Bangoura</td>\n",
       "      <td>Diallo</td>\n",
       "    </tr>\n",
       "    <tr>\n",
       "      <th>Ville</th>\n",
       "      <td>Kindia</td>\n",
       "      <td>Siguiri</td>\n",
       "    </tr>\n",
       "    <tr>\n",
       "      <th>Région</th>\n",
       "      <td>Basse-Guinée</td>\n",
       "      <td>Haute-Guinée</td>\n",
       "    </tr>\n",
       "    <tr>\n",
       "      <th>Nom et Prénom</th>\n",
       "      <td>BANGOURA Ramata</td>\n",
       "      <td>DIALLO Aïssatou</td>\n",
       "    </tr>\n",
       "    <tr>\n",
       "      <th>Adresse client</th>\n",
       "      <td>Kindia, Basse-Guinée</td>\n",
       "      <td>Siguiri, Haute-Guinée</td>\n",
       "    </tr>\n",
       "    <tr>\n",
       "      <th>Prix Unitaire</th>\n",
       "      <td>5000</td>\n",
       "      <td>5000</td>\n",
       "    </tr>\n",
       "    <tr>\n",
       "      <th>Cout Unitaire</th>\n",
       "      <td>2500</td>\n",
       "      <td>2500</td>\n",
       "    </tr>\n",
       "    <tr>\n",
       "      <th>Qualité</th>\n",
       "      <td>Moyenne</td>\n",
       "      <td>Moyenne</td>\n",
       "    </tr>\n",
       "    <tr>\n",
       "      <th>Cathegorie</th>\n",
       "      <td>Nourriture</td>\n",
       "      <td>Nourriture</td>\n",
       "    </tr>\n",
       "    <tr>\n",
       "      <th>Description</th>\n",
       "      <td>Sachet de café Touba 250g</td>\n",
       "      <td>Sachet de café Touba 250g</td>\n",
       "    </tr>\n",
       "    <tr>\n",
       "      <th>Vente</th>\n",
       "      <td>5000</td>\n",
       "      <td>35000</td>\n",
       "    </tr>\n",
       "    <tr>\n",
       "      <th>Coût</th>\n",
       "      <td>2500</td>\n",
       "      <td>17500</td>\n",
       "    </tr>\n",
       "    <tr>\n",
       "      <th>Bénéfice Net</th>\n",
       "      <td>2500</td>\n",
       "      <td>17500</td>\n",
       "    </tr>\n",
       "    <tr>\n",
       "      <th>Mois</th>\n",
       "      <td>July</td>\n",
       "      <td>April</td>\n",
       "    </tr>\n",
       "    <tr>\n",
       "      <th>Jour</th>\n",
       "      <td>Thursday</td>\n",
       "      <td>Tuesday</td>\n",
       "    </tr>\n",
       "  </tbody>\n",
       "</table>\n",
       "</div>"
      ],
      "text/plain": [
       "                                        0                          1\n",
       "Date                  2024-07-18 00:00:00        2024-04-09 00:00:00\n",
       "Code Produit                         P003                       P003\n",
       "Quantité                                1                          7\n",
       "Code magasin                         M001                       M005\n",
       "Code client                         C0014                      C0072\n",
       "Prénom                             Ramata                   Aïssatou\n",
       "Nom                              Bangoura                     Diallo\n",
       "Ville                              Kindia                    Siguiri\n",
       "Région                       Basse-Guinée               Haute-Guinée\n",
       "Nom et Prénom             BANGOURA Ramata            DIALLO Aïssatou\n",
       "Adresse client       Kindia, Basse-Guinée      Siguiri, Haute-Guinée\n",
       "Prix Unitaire                        5000                       5000\n",
       "Cout Unitaire                        2500                       2500\n",
       "Qualité                           Moyenne                    Moyenne\n",
       "Cathegorie                     Nourriture                 Nourriture\n",
       "Description     Sachet de café Touba 250g  Sachet de café Touba 250g\n",
       "Vente                                5000                      35000\n",
       "Coût                                 2500                      17500\n",
       "Bénéfice Net                         2500                      17500\n",
       "Mois                                 July                      April\n",
       "Jour                             Thursday                    Tuesday"
      ]
     },
     "execution_count": 41,
     "metadata": {},
     "output_type": "execute_result"
    }
   ],
   "source": [
    "#Construction du datamart (données prêtes à l’analyse)\n",
    "#Formule deterministe\n",
    "TableFusion[\"Vente\"]=TableFusion[\"Quantité\"]*TableFusion[\"Prix Unitaire\"]\n",
    "TableFusion[\"Coût\"]=TableFusion[\"Quantité\"]*TableFusion[\"Cout Unitaire\"]\n",
    "TableFusion[\"Bénéfice Net\"]=TableFusion[\"Vente\"]-TableFusion[\"Coût\"]\n",
    "#Fonction dt\n",
    "TableFusion[\"Mois\"]=TableFusion[\"Date\"].dt.month_name()\n",
    "TableFusion[\"Jour\"]=TableFusion[\"Date\"].dt.day_name()\n",
    "TableFusion.head(2).T"
   ]
  },
  {
   "cell_type": "code",
   "execution_count": 42,
   "id": "44f2c5cc-6535-4d0e-b5f1-37ce1dc61f25",
   "metadata": {},
   "outputs": [],
   "source": [
    "#Exportation de la table de fusion \n",
    "TableFusion.to_excel(\"TableFus.xlsx\")"
   ]
  },
  {
   "cell_type": "markdown",
   "id": "343bfed1-f762-404d-9c70-a4af628b14f4",
   "metadata": {},
   "source": [
    "*3. Aggregations et indicateurs analytiques*"
   ]
  },
  {
   "cell_type": "code",
   "execution_count": 43,
   "id": "6e130c82-0bca-4954-86fe-f57eb31d3922",
   "metadata": {},
   "outputs": [
    {
     "data": {
      "text/html": [
       "<div>\n",
       "<style scoped>\n",
       "    .dataframe tbody tr th:only-of-type {\n",
       "        vertical-align: middle;\n",
       "    }\n",
       "\n",
       "    .dataframe tbody tr th {\n",
       "        vertical-align: top;\n",
       "    }\n",
       "\n",
       "    .dataframe thead th {\n",
       "        text-align: right;\n",
       "    }\n",
       "</style>\n",
       "<table border=\"1\" class=\"dataframe\">\n",
       "  <thead>\n",
       "    <tr style=\"text-align: right;\">\n",
       "      <th></th>\n",
       "      <th>count</th>\n",
       "      <th>mean</th>\n",
       "      <th>std</th>\n",
       "      <th>min</th>\n",
       "      <th>25%</th>\n",
       "      <th>50%</th>\n",
       "      <th>75%</th>\n",
       "      <th>max</th>\n",
       "    </tr>\n",
       "  </thead>\n",
       "  <tbody>\n",
       "    <tr>\n",
       "      <th>Vente</th>\n",
       "      <td>1357.0</td>\n",
       "      <td>473479.734709</td>\n",
       "      <td>842732.761844</td>\n",
       "      <td>5000.0</td>\n",
       "      <td>48000.0</td>\n",
       "      <td>120000.0</td>\n",
       "      <td>450000.0</td>\n",
       "      <td>4500000.0</td>\n",
       "    </tr>\n",
       "    <tr>\n",
       "      <th>Coût</th>\n",
       "      <td>1357.0</td>\n",
       "      <td>311509.948416</td>\n",
       "      <td>565605.960861</td>\n",
       "      <td>2500.0</td>\n",
       "      <td>27000.0</td>\n",
       "      <td>72000.0</td>\n",
       "      <td>300000.0</td>\n",
       "      <td>3000000.0</td>\n",
       "    </tr>\n",
       "    <tr>\n",
       "      <th>Bénéfice Net</th>\n",
       "      <td>1357.0</td>\n",
       "      <td>161969.786293</td>\n",
       "      <td>277355.687131</td>\n",
       "      <td>2500.0</td>\n",
       "      <td>21000.0</td>\n",
       "      <td>49000.0</td>\n",
       "      <td>150000.0</td>\n",
       "      <td>1500000.0</td>\n",
       "    </tr>\n",
       "  </tbody>\n",
       "</table>\n",
       "</div>"
      ],
      "text/plain": [
       "               count           mean            std     min      25%       50%  \\\n",
       "Vente         1357.0  473479.734709  842732.761844  5000.0  48000.0  120000.0   \n",
       "Coût          1357.0  311509.948416  565605.960861  2500.0  27000.0   72000.0   \n",
       "Bénéfice Net  1357.0  161969.786293  277355.687131  2500.0  21000.0   49000.0   \n",
       "\n",
       "                   75%        max  \n",
       "Vente         450000.0  4500000.0  \n",
       "Coût          300000.0  3000000.0  \n",
       "Bénéfice Net  150000.0  1500000.0  "
      ]
     },
     "execution_count": 43,
     "metadata": {},
     "output_type": "execute_result"
    }
   ],
   "source": [
    "#Statistique descriptive \n",
    "TableStat=TableFusion[[f\"Vente\",f\"Coût\",f\"Bénéfice Net\"]].describe()\n",
    "TableStat.T"
   ]
  },
  {
   "cell_type": "code",
   "execution_count": 44,
   "id": "38afd87a-6b77-4361-8e89-260a7cb84d9e",
   "metadata": {},
   "outputs": [
    {
     "data": {
      "text/html": [
       "<div>\n",
       "<style scoped>\n",
       "    .dataframe tbody tr th:only-of-type {\n",
       "        vertical-align: middle;\n",
       "    }\n",
       "\n",
       "    .dataframe tbody tr th {\n",
       "        vertical-align: top;\n",
       "    }\n",
       "\n",
       "    .dataframe thead th {\n",
       "        text-align: right;\n",
       "    }\n",
       "</style>\n",
       "<table border=\"1\" class=\"dataframe\">\n",
       "  <thead>\n",
       "    <tr style=\"text-align: right;\">\n",
       "      <th></th>\n",
       "      <th>sum</th>\n",
       "      <th>median</th>\n",
       "    </tr>\n",
       "  </thead>\n",
       "  <tbody>\n",
       "    <tr>\n",
       "      <th>Vente</th>\n",
       "      <td>642512000.0</td>\n",
       "      <td>120000.0</td>\n",
       "    </tr>\n",
       "    <tr>\n",
       "      <th>Coût</th>\n",
       "      <td>422719000.0</td>\n",
       "      <td>72000.0</td>\n",
       "    </tr>\n",
       "    <tr>\n",
       "      <th>Bénéfice Net</th>\n",
       "      <td>219793000.0</td>\n",
       "      <td>49000.0</td>\n",
       "    </tr>\n",
       "  </tbody>\n",
       "</table>\n",
       "</div>"
      ],
      "text/plain": [
       "                      sum    median\n",
       "Vente         642512000.0  120000.0\n",
       "Coût          422719000.0   72000.0\n",
       "Bénéfice Net  219793000.0   49000.0"
      ]
     },
     "execution_count": 44,
     "metadata": {},
     "output_type": "execute_result"
    }
   ],
   "source": [
    "#Aggréegation\n",
    "TableAggré = TableFusion[[\"Vente\",\n",
    "                          \"Coût\", \n",
    "                          \"Bénéfice Net\"]].agg([\"sum\", \"median\"])\n",
    "TableAggré.T"
   ]
  },
  {
   "cell_type": "markdown",
   "id": "f9592c75-3960-4f40-a8c1-cb04f7fc6a4d",
   "metadata": {},
   "source": [
    "*4. Regroupement des donnees et visualisation graphique*"
   ]
  },
  {
   "cell_type": "markdown",
   "id": "3babeee3-0e3d-45df-9285-66b1a8ebb8cd",
   "metadata": {},
   "source": [
    "Regroupement periodique"
   ]
  },
  {
   "cell_type": "code",
   "execution_count": 65,
   "id": "10e9aeaf-fd56-49b2-baa5-8a0caaa68bf0",
   "metadata": {},
   "outputs": [
    {
     "data": {
      "text/html": [
       "<div>\n",
       "<style scoped>\n",
       "    .dataframe tbody tr th:only-of-type {\n",
       "        vertical-align: middle;\n",
       "    }\n",
       "\n",
       "    .dataframe tbody tr th {\n",
       "        vertical-align: top;\n",
       "    }\n",
       "\n",
       "    .dataframe thead th {\n",
       "        text-align: right;\n",
       "    }\n",
       "</style>\n",
       "<table border=\"1\" class=\"dataframe\">\n",
       "  <thead>\n",
       "    <tr style=\"text-align: right;\">\n",
       "      <th></th>\n",
       "      <th>Vente</th>\n",
       "      <th>Coût</th>\n",
       "      <th>Bénéfice Net</th>\n",
       "    </tr>\n",
       "    <tr>\n",
       "      <th>Mois</th>\n",
       "      <th></th>\n",
       "      <th></th>\n",
       "      <th></th>\n",
       "    </tr>\n",
       "  </thead>\n",
       "  <tbody>\n",
       "    <tr>\n",
       "      <th>April</th>\n",
       "      <td>68463000</td>\n",
       "      <td>45132000</td>\n",
       "      <td>23331000</td>\n",
       "    </tr>\n",
       "    <tr>\n",
       "      <th>August</th>\n",
       "      <td>34602000</td>\n",
       "      <td>22628500</td>\n",
       "      <td>11973500</td>\n",
       "    </tr>\n",
       "    <tr>\n",
       "      <th>December</th>\n",
       "      <td>45483000</td>\n",
       "      <td>29976500</td>\n",
       "      <td>15506500</td>\n",
       "    </tr>\n",
       "    <tr>\n",
       "      <th>February</th>\n",
       "      <td>70535000</td>\n",
       "      <td>46755500</td>\n",
       "      <td>23779500</td>\n",
       "    </tr>\n",
       "    <tr>\n",
       "      <th>January</th>\n",
       "      <td>44662000</td>\n",
       "      <td>29140000</td>\n",
       "      <td>15522000</td>\n",
       "    </tr>\n",
       "    <tr>\n",
       "      <th>July</th>\n",
       "      <td>60904000</td>\n",
       "      <td>40189000</td>\n",
       "      <td>20715000</td>\n",
       "    </tr>\n",
       "    <tr>\n",
       "      <th>June</th>\n",
       "      <td>65329000</td>\n",
       "      <td>43213000</td>\n",
       "      <td>22116000</td>\n",
       "    </tr>\n",
       "    <tr>\n",
       "      <th>March</th>\n",
       "      <td>44913000</td>\n",
       "      <td>29306000</td>\n",
       "      <td>15607000</td>\n",
       "    </tr>\n",
       "    <tr>\n",
       "      <th>May</th>\n",
       "      <td>43977000</td>\n",
       "      <td>28962500</td>\n",
       "      <td>15014500</td>\n",
       "    </tr>\n",
       "    <tr>\n",
       "      <th>November</th>\n",
       "      <td>43141000</td>\n",
       "      <td>28253500</td>\n",
       "      <td>14887500</td>\n",
       "    </tr>\n",
       "    <tr>\n",
       "      <th>October</th>\n",
       "      <td>64776000</td>\n",
       "      <td>42556500</td>\n",
       "      <td>22219500</td>\n",
       "    </tr>\n",
       "    <tr>\n",
       "      <th>September</th>\n",
       "      <td>55727000</td>\n",
       "      <td>36606000</td>\n",
       "      <td>19121000</td>\n",
       "    </tr>\n",
       "  </tbody>\n",
       "</table>\n",
       "</div>"
      ],
      "text/plain": [
       "              Vente      Coût  Bénéfice Net\n",
       "Mois                                       \n",
       "April      68463000  45132000      23331000\n",
       "August     34602000  22628500      11973500\n",
       "December   45483000  29976500      15506500\n",
       "February   70535000  46755500      23779500\n",
       "January    44662000  29140000      15522000\n",
       "July       60904000  40189000      20715000\n",
       "June       65329000  43213000      22116000\n",
       "March      44913000  29306000      15607000\n",
       "May        43977000  28962500      15014500\n",
       "November   43141000  28253500      14887500\n",
       "October    64776000  42556500      22219500\n",
       "September  55727000  36606000      19121000"
      ]
     },
     "metadata": {},
     "output_type": "display_data"
    },
    {
     "data": {
      "image/png": "[encoded data removed]",
      "text/plain": [
       "<Figure size 640x480 with 1 Axes>"
      ]
     },
     "metadata": {},
     "output_type": "display_data"
    }
   ],
   "source": [
    "#régroupement par mois\n",
    "Mois=TableFusion[[\"Mois\",\"Vente\",\"Coût\",\n",
    "                  \"Bénéfice Net\"]].groupby(\"Mois\").sum()\n",
    "display(Mois)\n",
    "#Graphique en bar\n",
    "Mois.plot.bar()\n",
    "plt.title('Vente, Coût et Bénéfice Net par Mois')\n",
    "plt.xlabel('Mois')\n",
    "plt.ylabel('Montant')\n",
    "plt.legend()\n",
    "plt.tight_layout()\n",
    "#plt.savefig(\"nom_figure.jpg\") pour enregistrer la figure\n",
    "plt.show()"
   ]
  },
  {
   "cell_type": "code",
   "execution_count": 67,
   "id": "38030b78-4cf4-4972-b6bc-7af198d2defd",
   "metadata": {},
   "outputs": [
    {
     "data": {
      "text/html": [
       "<div>\n",
       "<style scoped>\n",
       "    .dataframe tbody tr th:only-of-type {\n",
       "        vertical-align: middle;\n",
       "    }\n",
       "\n",
       "    .dataframe tbody tr th {\n",
       "        vertical-align: top;\n",
       "    }\n",
       "\n",
       "    .dataframe thead th {\n",
       "        text-align: right;\n",
       "    }\n",
       "</style>\n",
       "<table border=\"1\" class=\"dataframe\">\n",
       "  <thead>\n",
       "    <tr style=\"text-align: right;\">\n",
       "      <th>Jour</th>\n",
       "      <th>Friday</th>\n",
       "      <th>Monday</th>\n",
       "      <th>Saturday</th>\n",
       "      <th>Sunday</th>\n",
       "      <th>Thursday</th>\n",
       "      <th>Tuesday</th>\n",
       "      <th>Wednesday</th>\n",
       "    </tr>\n",
       "  </thead>\n",
       "  <tbody>\n",
       "    <tr>\n",
       "      <th>Vente</th>\n",
       "      <td>92936000</td>\n",
       "      <td>98396000</td>\n",
       "      <td>87834000</td>\n",
       "      <td>112632000</td>\n",
       "      <td>84583000</td>\n",
       "      <td>81336000</td>\n",
       "      <td>84795000</td>\n",
       "    </tr>\n",
       "    <tr>\n",
       "      <th>Coût</th>\n",
       "      <td>61260500</td>\n",
       "      <td>64789000</td>\n",
       "      <td>57711500</td>\n",
       "      <td>74388500</td>\n",
       "      <td>55634500</td>\n",
       "      <td>53479500</td>\n",
       "      <td>55455500</td>\n",
       "    </tr>\n",
       "    <tr>\n",
       "      <th>Bénéfice Net</th>\n",
       "      <td>31675500</td>\n",
       "      <td>33607000</td>\n",
       "      <td>30122500</td>\n",
       "      <td>38243500</td>\n",
       "      <td>28948500</td>\n",
       "      <td>27856500</td>\n",
       "      <td>29339500</td>\n",
       "    </tr>\n",
       "  </tbody>\n",
       "</table>\n",
       "</div>"
      ],
      "text/plain": [
       "Jour            Friday    Monday  Saturday     Sunday  Thursday   Tuesday  \\\n",
       "Vente         92936000  98396000  87834000  112632000  84583000  81336000   \n",
       "Coût          61260500  64789000  57711500   74388500  55634500  53479500   \n",
       "Bénéfice Net  31675500  33607000  30122500   38243500  28948500  27856500   \n",
       "\n",
       "Jour          Wednesday  \n",
       "Vente          84795000  \n",
       "Coût           55455500  \n",
       "Bénéfice Net   29339500  "
      ]
     },
     "metadata": {},
     "output_type": "display_data"
    },
    {
     "data": {
      "image/png": "[encoded data removed]",
      "text/plain": [
       "<Figure size 640x480 with 1 Axes>"
      ]
     },
     "metadata": {},
     "output_type": "display_data"
    }
   ],
   "source": [
    "#par jour\n",
    "Jours=TableFusion[[\"Jour\",\"Vente\",\"Coût\",\n",
    "                   \"Bénéfice Net\"]].groupby(\"Jour\").sum()\n",
    "display(Jours.T)\n",
    "#Graphique en bar\n",
    "Jours.plot.bar()\n",
    "plt.title('Vente, Coût et Bénéfice Net par jours')\n",
    "plt.xlabel('Jours')\n",
    "plt.ylabel('Montant')\n",
    "plt.legend()\n",
    "plt.tight_layout()\n",
    "#plt.savefig(\"nom_figure.jpg\") pour enregistrer la figure\n",
    "plt.show()"
   ]
  },
  {
   "cell_type": "markdown",
   "id": "f20e983a-8196-4a78-8989-a172934a56d4",
   "metadata": {},
   "source": [
    "Regroupement par secteur"
   ]
  },
  {
   "cell_type": "code",
   "execution_count": 47,
   "id": "085069ce-b9aa-4f8f-b758-60a5e1967201",
   "metadata": {},
   "outputs": [
    {
     "data": {
      "text/html": [
       "<div>\n",
       "<style scoped>\n",
       "    .dataframe tbody tr th:only-of-type {\n",
       "        vertical-align: middle;\n",
       "    }\n",
       "\n",
       "    .dataframe tbody tr th {\n",
       "        vertical-align: top;\n",
       "    }\n",
       "\n",
       "    .dataframe thead th {\n",
       "        text-align: right;\n",
       "    }\n",
       "</style>\n",
       "<table border=\"1\" class=\"dataframe\">\n",
       "  <thead>\n",
       "    <tr style=\"text-align: right;\">\n",
       "      <th>Région</th>\n",
       "      <th>Basse-Guinée</th>\n",
       "      <th>Guinée Forestière</th>\n",
       "      <th>Haute-Guinée</th>\n",
       "      <th>Moyenne-Guinée</th>\n",
       "    </tr>\n",
       "  </thead>\n",
       "  <tbody>\n",
       "    <tr>\n",
       "      <th>Vente</th>\n",
       "      <td>255983000</td>\n",
       "      <td>95538000</td>\n",
       "      <td>133205000</td>\n",
       "      <td>157786000</td>\n",
       "    </tr>\n",
       "    <tr>\n",
       "      <th>Coût</th>\n",
       "      <td>168198000</td>\n",
       "      <td>63084500</td>\n",
       "      <td>87500500</td>\n",
       "      <td>103936000</td>\n",
       "    </tr>\n",
       "    <tr>\n",
       "      <th>Bénéfice Net</th>\n",
       "      <td>87785000</td>\n",
       "      <td>32453500</td>\n",
       "      <td>45704500</td>\n",
       "      <td>53850000</td>\n",
       "    </tr>\n",
       "  </tbody>\n",
       "</table>\n",
       "</div>"
      ],
      "text/plain": [
       "Région        Basse-Guinée  Guinée Forestière  Haute-Guinée  Moyenne-Guinée\n",
       "Vente            255983000           95538000     133205000       157786000\n",
       "Coût             168198000           63084500      87500500       103936000\n",
       "Bénéfice Net      87785000           32453500      45704500        53850000"
      ]
     },
     "metadata": {},
     "output_type": "display_data"
    },
    {
     "data": {
      "image/png": "[encoded data removed]",
      "text/plain": [
       "<Figure size 1600x400 with 1 Axes>"
      ]
     },
     "metadata": {},
     "output_type": "display_data"
    }
   ],
   "source": [
    "#Par region\n",
    "Région=TableFusion[[\"Région\",\"Vente\",\"Coût\",\n",
    "                    \"Bénéfice Net\"]].groupby(\"Région\").sum()\n",
    "display(Région.T)\n",
    "# Graphe\n",
    "plt.figure(facecolor=f\"orange\",figsize=(16,4))\n",
    "plt.plot(Région['Vente'], label='Vente', marker='o')\n",
    "plt.plot(Région['Coût'], label='Coût', marker='o')\n",
    "plt.plot(Région['Bénéfice Net'], label='Bénéfice Net', marker='o')\n",
    "plt.title('Vente, Coût et Bénéfice Net par Région')\n",
    "plt.xlabel('Région')\n",
    "plt.ylabel('Montant')\n",
    "plt.legend()\n",
    "plt.grid(True)\n",
    "plt.tight_layout()\n",
    "#plt.savefig(\"nom_figure.jpg\") pour enregistrer la figure\n",
    "plt.show()"
   ]
  },
  {
   "cell_type": "code",
   "execution_count": 63,
   "id": "0bb70718-1379-4c5a-8e31-b2cb9faa823c",
   "metadata": {},
   "outputs": [
    {
     "data": {
      "text/html": [
       "<div>\n",
       "<style scoped>\n",
       "    .dataframe tbody tr th:only-of-type {\n",
       "        vertical-align: middle;\n",
       "    }\n",
       "\n",
       "    .dataframe tbody tr th {\n",
       "        vertical-align: top;\n",
       "    }\n",
       "\n",
       "    .dataframe thead th {\n",
       "        text-align: right;\n",
       "    }\n",
       "</style>\n",
       "<table border=\"1\" class=\"dataframe\">\n",
       "  <thead>\n",
       "    <tr style=\"text-align: right;\">\n",
       "      <th></th>\n",
       "      <th>Vente</th>\n",
       "      <th>Coût</th>\n",
       "      <th>Bénéfice Net</th>\n",
       "    </tr>\n",
       "    <tr>\n",
       "      <th>Ville</th>\n",
       "      <th></th>\n",
       "      <th></th>\n",
       "      <th></th>\n",
       "    </tr>\n",
       "  </thead>\n",
       "  <tbody>\n",
       "    <tr>\n",
       "      <th>Conakry</th>\n",
       "      <td>133913000</td>\n",
       "      <td>87686500</td>\n",
       "      <td>46226500</td>\n",
       "    </tr>\n",
       "    <tr>\n",
       "      <th>Kankan</th>\n",
       "      <td>65860000</td>\n",
       "      <td>43236500</td>\n",
       "      <td>22623500</td>\n",
       "    </tr>\n",
       "    <tr>\n",
       "      <th>Kindia</th>\n",
       "      <td>122070000</td>\n",
       "      <td>80511500</td>\n",
       "      <td>41558500</td>\n",
       "    </tr>\n",
       "    <tr>\n",
       "      <th>Labé</th>\n",
       "      <td>88005000</td>\n",
       "      <td>58050500</td>\n",
       "      <td>29954500</td>\n",
       "    </tr>\n",
       "    <tr>\n",
       "      <th>Macenta</th>\n",
       "      <td>49809000</td>\n",
       "      <td>32856000</td>\n",
       "      <td>16953000</td>\n",
       "    </tr>\n",
       "    <tr>\n",
       "      <th>Mamou</th>\n",
       "      <td>69781000</td>\n",
       "      <td>45885500</td>\n",
       "      <td>23895500</td>\n",
       "    </tr>\n",
       "    <tr>\n",
       "      <th>Nzérékoré</th>\n",
       "      <td>45729000</td>\n",
       "      <td>30228500</td>\n",
       "      <td>15500500</td>\n",
       "    </tr>\n",
       "    <tr>\n",
       "      <th>Siguiri</th>\n",
       "      <td>67345000</td>\n",
       "      <td>44264000</td>\n",
       "      <td>23081000</td>\n",
       "    </tr>\n",
       "  </tbody>\n",
       "</table>\n",
       "</div>"
      ],
      "text/plain": [
       "               Vente      Coût  Bénéfice Net\n",
       "Ville                                       \n",
       "Conakry    133913000  87686500      46226500\n",
       "Kankan      65860000  43236500      22623500\n",
       "Kindia     122070000  80511500      41558500\n",
       "Labé        88005000  58050500      29954500\n",
       "Macenta     49809000  32856000      16953000\n",
       "Mamou       69781000  45885500      23895500\n",
       "Nzérékoré   45729000  30228500      15500500\n",
       "Siguiri     67345000  44264000      23081000"
      ]
     },
     "metadata": {},
     "output_type": "display_data"
    },
    {
     "data": {
      "image/png": "[encoded data removed]",
      "text/plain": [
       "<Figure size 1600x400 with 1 Axes>"
      ]
     },
     "metadata": {},
     "output_type": "display_data"
    }
   ],
   "source": [
    "#Par ville\n",
    "Ville=TableFusion[[\"Ville\",\"Vente\", \"Coût\",\n",
    "                   \"Bénéfice Net\"]].groupby(\"Ville\").sum()\n",
    "display(Ville)\n",
    "# Graphe\n",
    "plt.figure(facecolor=f\"green\",figsize=(16,4))\n",
    "plt.plot(Ville['Vente'], label='Vente', marker='o')\n",
    "plt.plot(Ville['Coût'], label='Coût', marker='o')\n",
    "plt.plot(Ville['Bénéfice Net'], label='Bénéfice Net', marker='o')\n",
    "plt.title('Vente, Coût et Bénéfice Net par ville')\n",
    "plt.xlabel('Ville')\n",
    "plt.ylabel('Montant')\n",
    "plt.legend()\n",
    "plt.grid(True)\n",
    "plt.tight_layout()\n",
    "#plt.savefig(\"nom_figure.jpg\") pour enregistrer la figure\n",
    "plt.show()"
   ]
  },
  {
   "cell_type": "code",
   "execution_count": 49,
   "id": "508cd6c5-8de3-4a95-afd1-bbf676f28a38",
   "metadata": {},
   "outputs": [
    {
     "data": {
      "text/html": [
       "<div>\n",
       "<style scoped>\n",
       "    .dataframe tbody tr th:only-of-type {\n",
       "        vertical-align: middle;\n",
       "    }\n",
       "\n",
       "    .dataframe tbody tr th {\n",
       "        vertical-align: top;\n",
       "    }\n",
       "\n",
       "    .dataframe thead th {\n",
       "        text-align: right;\n",
       "    }\n",
       "</style>\n",
       "<table border=\"1\" class=\"dataframe\">\n",
       "  <thead>\n",
       "    <tr style=\"text-align: right;\">\n",
       "      <th>Code magasin</th>\n",
       "      <th>M001</th>\n",
       "      <th>M002</th>\n",
       "      <th>M003</th>\n",
       "      <th>M004</th>\n",
       "      <th>M005</th>\n",
       "    </tr>\n",
       "  </thead>\n",
       "  <tbody>\n",
       "    <tr>\n",
       "      <th>Vente</th>\n",
       "      <td>138771000</td>\n",
       "      <td>160809000</td>\n",
       "      <td>113315000</td>\n",
       "      <td>133089000</td>\n",
       "      <td>96528000</td>\n",
       "    </tr>\n",
       "    <tr>\n",
       "      <th>Coût</th>\n",
       "      <td>91423500</td>\n",
       "      <td>106189000</td>\n",
       "      <td>74517500</td>\n",
       "      <td>87544000</td>\n",
       "      <td>63045000</td>\n",
       "    </tr>\n",
       "    <tr>\n",
       "      <th>Bénéfice Net</th>\n",
       "      <td>47347500</td>\n",
       "      <td>54620000</td>\n",
       "      <td>38797500</td>\n",
       "      <td>45545000</td>\n",
       "      <td>33483000</td>\n",
       "    </tr>\n",
       "  </tbody>\n",
       "</table>\n",
       "</div>"
      ],
      "text/plain": [
       "Code magasin       M001       M002       M003       M004      M005\n",
       "Vente         138771000  160809000  113315000  133089000  96528000\n",
       "Coût           91423500  106189000   74517500   87544000  63045000\n",
       "Bénéfice Net   47347500   54620000   38797500   45545000  33483000"
      ]
     },
     "metadata": {},
     "output_type": "display_data"
    },
    {
     "data": {
      "image/png": "[encoded data removed]",
      "text/plain": [
       "<Figure size 1600x400 with 1 Axes>"
      ]
     },
     "metadata": {},
     "output_type": "display_data"
    }
   ],
   "source": [
    "#Par magasin\n",
    "Magasin=TableFusion[[\"Code magasin\",\"Vente\", \"Coût\",\n",
    "                     \"Bénéfice Net\"]].groupby(\"Code magasin\").sum()\n",
    "display(Magasin.T)\n",
    "# Graphe \n",
    "plt.figure(facecolor=f\"skyblue\",figsize=(16,4))\n",
    "plt.plot(Magasin['Vente'], label='Vente', marker='o')\n",
    "plt.plot(Magasin['Coût'], label='Coût', marker='o')\n",
    "plt.plot(Magasin['Bénéfice Net'], label='Bénéfice Net', marker='o')\n",
    "plt.title('Vente, Coût et Bénéfice Net par magasin')\n",
    "plt.xlabel('Magasin')\n",
    "plt.ylabel('Montant')\n",
    "plt.legend()\n",
    "plt.grid(True)\n",
    "plt.tight_layout()\n",
    "#plt.savefig(\"nom_figure.jpg\") pour enregistrer la figure\n",
    "plt.show()"
   ]
  },
  {
   "cell_type": "markdown",
   "id": "b0625bc2-d87e-4846-843d-2ac3bd0a4a16",
   "metadata": {},
   "source": [
    "Regroupement par article du magasin"
   ]
  },
  {
   "cell_type": "code",
   "execution_count": 50,
   "id": "c90b14e5-576a-4f9d-919b-1b7d4d9680a3",
   "metadata": {},
   "outputs": [
    {
     "data": {
      "image/png": "[encoded data removed]",
      "text/plain": [
       "<Figure size 640x480 with 1 Axes>"
      ]
     },
     "metadata": {},
     "output_type": "display_data"
    }
   ],
   "source": [
    "#Par produit (Produit le plus vendu)\n",
    "Produit=TableFusion[[\"Code Produit\",\"Description\",\"Vente\"]].groupby(\"Code Produit\").sum()\n",
    "Produit.head().T\n",
    "#Graphique en bar par produit\n",
    "Produit.plot.bar()\n",
    "plt.title('Vente, Coût et Bénéfice Net par Région')\n",
    "plt.xlabel('Ville')\n",
    "plt.axhline(Produit[\"Vente\"].mean(),color=\"r\",label=f\"Vente moyenne\",linestyle=\"--\")\n",
    "plt.axhline(Produit[\"Vente\"].max(),color=\"black\",label=f\"Le mode\",linestyle=\"--\")\n",
    "plt.ylabel('Montant')\n",
    "plt.legend()\n",
    "plt.tight_layout()\n",
    "#plt.savefig(\"nom_figure.jpg\") pour enregistrer la figure\n",
    "plt.show()"
   ]
  },
  {
   "cell_type": "markdown",
   "id": "0e659b65-9fa0-4ddd-a6b5-060f9b0e0db1",
   "metadata": {},
   "source": [
    "**B.ANALYSE PREDICTIVE**"
   ]
  },
  {
   "cell_type": "code",
   "execution_count": 53,
   "id": "b93c3f41-4cf2-4da5-a953-43445ff72bea",
   "metadata": {},
   "outputs": [],
   "source": [
    "# Charger la table de fusion deja enregistrée\n",
    "df = pd.read_excel(rf\"TableFus.xlsx\")"
   ]
  },
  {
   "cell_type": "code",
   "execution_count": 56,
   "id": "97158dac-ee62-4ac9-9816-23fde89be087",
   "metadata": {},
   "outputs": [
    {
     "data": {
      "image/png": "[encoded data removed]",
      "text/plain": [
       "<Figure size 1600x400 with 2 Axes>"
      ]
     },
     "metadata": {},
     "output_type": "display_data"
    }
   ],
   "source": [
    "# Visualisation des données brutes\n",
    "plt.figure(facecolor=f\"pink\",figsize=(16, 4))\n",
    "plt.suptitle(\"NUAGE DES POINTS : CONNAITRE LA TENDANCE\")\n",
    "plt.subplot(1, 2, 1)\n",
    "plt.scatter(df[\"Coût\"], df['Bénéfice Net'], color='blue')\n",
    "plt.title(\"Coût (x1) vs Bénéfice net (Y)\")\n",
    "plt.xlabel(\"Coût\")\n",
    "plt.ylabel(\"Bénéfice\")\n",
    "plt.grid(linestyle=f\"--\")\n",
    "\n",
    "plt.subplot(1, 2, 2)\n",
    "plt.scatter(df[\"Vente\"], df['Bénéfice Net'], color='g')\n",
    "plt.title(\"Vente (x2) vs Bénéfice (Y)\")\n",
    "plt.xlabel(\"Vente\")\n",
    "plt.ylabel(\"Bénéfice\")\n",
    "plt.grid(linestyle=f\"--\")\n",
    "plt.tight_layout()\n",
    "plt.show()"
   ]
  },
  {
   "cell_type": "code",
   "execution_count": 57,
   "id": "01d300a5-f0d6-473f-81b6-38e1692f46e8",
   "metadata": {},
   "outputs": [
    {
     "name": "stdout",
     "output_type": "stream",
     "text": [
      "                            OLS Regression Results                            \n",
      "==============================================================================\n",
      "Dep. Variable:           Bénéfice Net   R-squared:                       1.000\n",
      "Model:                            OLS   Adj. R-squared:                  1.000\n",
      "Method:                 Least Squares   F-statistic:                 9.439e+32\n",
      "Date:                Sun, 17 Aug 2025   Prob (F-statistic):               0.00\n",
      "Time:                        15:18:17   Log-Likelihood:                 28162.\n",
      "No. Observations:                1357   AIC:                        -5.632e+04\n",
      "Df Residuals:                    1354   BIC:                        -5.630e+04\n",
      "Df Model:                           2                                         \n",
      "Covariance Type:            nonrobust                                         \n",
      "==============================================================================\n",
      "                 coef    std err          t      P>|t|      [0.025      0.975]\n",
      "------------------------------------------------------------------------------\n",
      "const      -9.004e-11   8.49e-12    -10.602      0.000   -1.07e-10   -7.34e-11\n",
      "Coût          -1.0000   6.92e-16  -1.45e+15      0.000      -1.000      -1.000\n",
      "Vente          1.0000   4.64e-16   2.15e+15      0.000       1.000       1.000\n",
      "==============================================================================\n",
      "Omnibus:                      772.279   Durbin-Watson:                   0.606\n",
      "Prob(Omnibus):                  0.000   Jarque-Bera (JB):             4831.948\n",
      "Skew:                          -2.713   Prob(JB):                         0.00\n",
      "Kurtosis:                      10.485   Cond. No.                     1.55e+06\n",
      "==============================================================================\n",
      "\n",
      "Notes:\n",
      "[1] Standard Errors assume that the covariance matrix of the errors is correctly specified.\n",
      "[2] The condition number is large, 1.55e+06. This might indicate that there are\n",
      "strong multicollinearity or other numerical problems.\n"
     ]
    }
   ],
   "source": [
    "# Définir les variables indépendantes et la variable dépendante\n",
    "X = df[['Coût', 'Vente']]\n",
    "X = sm.add_constant(X) # Ajout d'une constante pour l'intercept\n",
    "y = df['Bénéfice Net']\n",
    "#Construire et ajuster le modèle\n",
    "modele = sm.OLS(y, X).fit()\n",
    "# Résumé du modèle\n",
    "print(modele.summary())"
   ]
  },
  {
   "cell_type": "code",
   "execution_count": 60,
   "id": "f656e5e1-f1a5-41e1-abc5-9fbe64d238cc",
   "metadata": {},
   "outputs": [
    {
     "data": {
      "text/html": [
       "<div>\n",
       "<style scoped>\n",
       "    .dataframe tbody tr th:only-of-type {\n",
       "        vertical-align: middle;\n",
       "    }\n",
       "\n",
       "    .dataframe tbody tr th {\n",
       "        vertical-align: top;\n",
       "    }\n",
       "\n",
       "    .dataframe thead th {\n",
       "        text-align: right;\n",
       "    }\n",
       "</style>\n",
       "<table border=\"1\" class=\"dataframe\">\n",
       "  <thead>\n",
       "    <tr style=\"text-align: right;\">\n",
       "      <th></th>\n",
       "      <th>0</th>\n",
       "    </tr>\n",
       "  </thead>\n",
       "  <tbody>\n",
       "    <tr>\n",
       "      <th>constante</th>\n",
       "      <td>-9.003998e-11</td>\n",
       "    </tr>\n",
       "    <tr>\n",
       "      <th>Coût</th>\n",
       "      <td>-1.000000e+00</td>\n",
       "    </tr>\n",
       "    <tr>\n",
       "      <th>Vente</th>\n",
       "      <td>1.000000e+00</td>\n",
       "    </tr>\n",
       "  </tbody>\n",
       "</table>\n",
       "</div>"
      ],
      "text/plain": [
       "                      0\n",
       "constante -9.003998e-11\n",
       "Coût      -1.000000e+00\n",
       "Vente      1.000000e+00"
      ]
     },
     "metadata": {},
     "output_type": "display_data"
    },
    {
     "name": "stdout",
     "output_type": "stream",
     "text": [
      "Modele : Benefice= -9.00399754755199e-11 + -1.0000000000000036 + 1.0000000000000027(Vente) + epsilon\n"
     ]
    }
   ],
   "source": [
    "#Les parametres estimés\n",
    "b=modele.params.iloc[0]\n",
    "a1=modele.params.iloc[1]\n",
    "a2=modele.params.iloc[2]\n",
    "dict = {\"constante\":[b],\n",
    "\"Coût\":[a1],\n",
    "\"Vente\":[a2]}\n",
    "display(pd.DataFrame(dict).T)\n",
    "print(f\"Modele : Benefice= {b} + {a1} + {a2}(Vente) + epsilon\")"
   ]
  },
  {
   "cell_type": "code",
   "execution_count": 61,
   "id": "727eab5e-90d7-4977-aed9-89ac81cd617e",
   "metadata": {},
   "outputs": [
    {
     "data": {
      "text/html": [
       "<div>\n",
       "<style scoped>\n",
       "    .dataframe tbody tr th:only-of-type {\n",
       "        vertical-align: middle;\n",
       "    }\n",
       "\n",
       "    .dataframe tbody tr th {\n",
       "        vertical-align: top;\n",
       "    }\n",
       "\n",
       "    .dataframe thead th {\n",
       "        text-align: right;\n",
       "    }\n",
       "</style>\n",
       "<table border=\"1\" class=\"dataframe\">\n",
       "  <thead>\n",
       "    <tr style=\"text-align: right;\">\n",
       "      <th></th>\n",
       "      <th>constant</th>\n",
       "      <th>Coût</th>\n",
       "      <th>Vente</th>\n",
       "    </tr>\n",
       "  </thead>\n",
       "  <tbody>\n",
       "    <tr>\n",
       "      <th>0</th>\n",
       "      <td>0</td>\n",
       "      <td>100000</td>\n",
       "      <td>150000</td>\n",
       "    </tr>\n",
       "  </tbody>\n",
       "</table>\n",
       "</div>"
      ],
      "text/plain": [
       "   constant    Coût   Vente\n",
       "0         0  100000  150000"
      ]
     },
     "execution_count": 61,
     "metadata": {},
     "output_type": "execute_result"
    }
   ],
   "source": [
    "#nouvelles données pour la prédiction\n",
    "donnée= pd.DataFrame({'constant':[0],'Coût':[100000],'Vente':[150000]})\n",
    "donnée"
   ]
  },
  {
   "cell_type": "code",
   "execution_count": 62,
   "id": "3bb6478f-0dd9-47ce-a68a-d779f603d858",
   "metadata": {},
   "outputs": [
    {
     "name": "stdout",
     "output_type": "stream",
     "text": [
      "Bénéfice prédit : 50000.00000000006\n"
     ]
    }
   ],
   "source": [
    "#Prédiction\n",
    "Benefice= modele.predict(donnée)\n",
    "print(\"Bénéfice prédit :\", Benefice.iloc[0])"
   ]
  },
  {
   "cell_type": "code",
   "execution_count": null,
   "id": "ab35b17b-cb7b-4c69-b954-fd586326decc",
   "metadata": {},
   "outputs": [],
   "source": []
  }
 ],
 "metadata": {
  "kernelspec": {
   "display_name": "anaconda-2024.02-py310",
   "language": "python",
   "name": "conda-env-anaconda-2024.02-py310-py"
  },
  "language_info": {
   "codemirror_mode": {
    "name": "ipython",
    "version": 3
   },
   "file_extension": ".py",
   "mimetype": "text/x-python",
   "name": "python",
   "nbconvert_exporter": "python",
   "pygments_lexer": "ipython3",
   "version": "3.10.14"
  }
 },
 "nbformat": 4,
 "nbformat_minor": 5
}
